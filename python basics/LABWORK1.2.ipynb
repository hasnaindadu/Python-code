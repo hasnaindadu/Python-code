{
 "cells": [
  {
   "cell_type": "code",
   "execution_count": null,
   "metadata": {
    "id": "zGiJW_A7mUYg"
   },
   "outputs": [],
   "source": [
    "#Q-1\n",
    "#USE OF sep = \" \"\n",
    "print(\"hello world\",\"my name is hasnain\",sep = \"-\")\n",
    "\n",
    "#use of end = \" \"\n",
    "print(\"hello world\",end = \" \")\n",
    "print(\"my name is hasnain\")"
   ]
  },
  {
   "cell_type": "code",
   "execution_count": null,
   "metadata": {},
   "outputs": [],
   "source": [
    "#HELLO EVERYONE"
   ]
  },
  {
   "cell_type": "code",
   "execution_count": null,
   "metadata": {
    "id": "RsplD0HoQ2-5"
   },
   "outputs": [],
   "source": [
    "#Q-2\n",
    "#PROGRAMME USING INPUT FUNCTION\n",
    "\n",
    "name = input(\"please enter your name:\")\n",
    "age = input(\"please enter your age:\")\n",
    "favourite_hobbie = input(\"please enter your favourite hobbie:\")\n",
    "\n",
    "print(\"your name is\",name,\"your age is\",age,\"your favourite hobbie is\",favourite_hobbie)"
   ]
  },
  {
   "cell_type": "code",
   "execution_count": null,
   "metadata": {
    "id": "-pnVMFz4RXJw"
   },
   "outputs": [],
   "source": [
    "#Q-3\n",
    "#ARITHMATIC OPERATORS\n",
    "number_1 = int(input(\"please enter number 1 :\\n\")) #here we took user input in new line by \\n\n",
    "number_2 = int(input(\"please enter number 2 :\\n\"))\n",
    "\n",
    "print(\"addition of two numbers is\",number_1 + number_2)\n",
    "print(\"subtraction of two numbers is\",number_1 - number_2)\n",
    "print(\"multiplication of two numbers is\",number_1 * number_2)\n",
    "print(\"devision of two numbers is\",number_1 / number_2)\n",
    "print(\"floor devision of two numbers is\",number_1 // number_2)\n",
    "print(\"power of two numbers is\",number_1 ** number_2)\n",
    "print(\"modulus of two numbers is\",number_1 % number_2)\n"
   ]
  },
  {
   "cell_type": "code",
   "execution_count": null,
   "metadata": {
    "id": "qODuc0ASVWaZ"
   },
   "outputs": [],
   "source": [
    "#Q-4\n",
    "#PROGRAMME TO DECLARE DATA TYPE\n",
    "data_1 = \"hello world\"\n",
    "data_2 = 563\n",
    "data_3 = 53.2\n",
    "data_4 = [\"apple\",\"banana\",\"kiwi\"]\n",
    "x=5\n",
    "y=9\n",
    "data_5 = x > y\n",
    "print(data_5)#bolean output\n",
    "data_6 = \"car\",\"bike\",\"cycle\"\n",
    "print(type(data_1))\n",
    "print(type(data_2))\n",
    "print(type(data_3))\n",
    "print(type(data_4))\n",
    "print(type(data_5))\n",
    "print(type(data_6))\n",
    "\n",
    "\n"
   ]
  },
  {
   "cell_type": "code",
   "execution_count": null,
   "metadata": {
    "id": "c0jTuT4jcc6R"
   },
   "outputs": [],
   "source": [
    "#Q-5\n",
    "#PROGRAMME TO CALCULATE BODY METABOLIC INDEX\n",
    "height = int(input(\"please enter your height in cn: \\n\"))\n",
    "weight = int(input(\"please enter your weight in kg: \\n\"))\n",
    "BMI = weight / (height/100)**2\n",
    "print(\"your BMI is\",BMI)"
   ]
  },
  {
   "cell_type": "code",
   "execution_count": null,
   "metadata": {
    "id": "s_V4gE3EdZSy"
   },
   "outputs": [],
   "source": [
    "#Q-6\n",
    "#PROGRAMME TO DEMONSTRATE LOGICAL OPERATORS\n",
    "a = int(input(\"ENTER first number: \"))\n",
    "b = int(input(\"ENTER second number: \"))\n",
    "\n",
    "print(a or b)\n",
    "print(a and b)\n",
    "print(not a)\n",
    "print(not b)\n",
    "\n"
   ]
  },
  {
   "cell_type": "code",
   "execution_count": null,
   "metadata": {
    "id": "Vj3bcRaKim_K"
   },
   "outputs": [],
   "source": [
    "#Q-7\n",
    "#PROGRAMME FOR ASSIGNMENT OPERATORS\n",
    "a = int(input(\"ENTER first number: \"))\n",
    "b = int(input(\"ENTER second number: \"))\n",
    "a += b\n",
    "print(a)\n",
    "a -= b\n",
    "print(a)\n",
    "a *= b\n",
    "print(a)\n",
    "a /= b\n",
    "print(a)\n",
    "a %= b\n",
    "print(a)\n",
    "a //= b\n",
    "print(a)\n",
    "a **= b\n",
    "print(a)"
   ]
  }
 ],
 "metadata": {
  "colab": {
   "authorship_tag": "ABX9TyNr5p4Vl5ed699P7Dy50P+p",
   "provenance": []
  },
  "kernelspec": {
   "display_name": "Python 3",
   "name": "python3"
  },
  "language_info": {
   "name": "python"
  }
 },
 "nbformat": 4,
 "nbformat_minor": 0
}
